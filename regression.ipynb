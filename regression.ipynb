{
 "cells": [
  {
   "cell_type": "code",
   "execution_count": 1,
   "id": "36efaff6",
   "metadata": {},
   "outputs": [],
   "source": [
    "import numpy as np # linear algebra\n",
    "import pandas as pd # data processing\n",
    "# import libraries for plotting\n",
    "import matplotlib.pyplot as plt\n",
    "import seaborn as sns\n",
    "%matplotlib inline\n",
    "from sklearn.metrics import r2_score\n",
    "from sklearn import linear_model\n",
    "import warnings"
   ]
  },
  {
   "cell_type": "code",
   "execution_count": 2,
   "id": "da397d56",
   "metadata": {},
   "outputs": [],
   "source": [
    "# Read the first sheet (index 0) into a pandas DataFrame\n",
    "#assessment 1 \n",
    "df = pd.read_excel(r\"C:\\Users\\rajha\\Downloads\\Data set.xlsx\", sheet_name=0)"
   ]
  },
  {
   "cell_type": "code",
   "execution_count": 4,
   "id": "a74d7e5b",
   "metadata": {},
   "outputs": [
    {
     "data": {
      "text/html": [
       "<div>\n",
       "<style scoped>\n",
       "    .dataframe tbody tr th:only-of-type {\n",
       "        vertical-align: middle;\n",
       "    }\n",
       "\n",
       "    .dataframe tbody tr th {\n",
       "        vertical-align: top;\n",
       "    }\n",
       "\n",
       "    .dataframe thead th {\n",
       "        text-align: right;\n",
       "    }\n",
       "</style>\n",
       "<table border=\"1\" class=\"dataframe\">\n",
       "  <thead>\n",
       "    <tr style=\"text-align: right;\">\n",
       "      <th></th>\n",
       "      <th>CPI</th>\n",
       "      <th>discounts</th>\n",
       "      <th>offers</th>\n",
       "      <th>Sales</th>\n",
       "    </tr>\n",
       "  </thead>\n",
       "  <tbody>\n",
       "    <tr>\n",
       "      <th>0</th>\n",
       "      <td>2600</td>\n",
       "      <td>3</td>\n",
       "      <td>20</td>\n",
       "      <td>550000</td>\n",
       "    </tr>\n",
       "    <tr>\n",
       "      <th>1</th>\n",
       "      <td>3000</td>\n",
       "      <td>4</td>\n",
       "      <td>15</td>\n",
       "      <td>565000</td>\n",
       "    </tr>\n",
       "    <tr>\n",
       "      <th>2</th>\n",
       "      <td>3200</td>\n",
       "      <td>5</td>\n",
       "      <td>18</td>\n",
       "      <td>610000</td>\n",
       "    </tr>\n",
       "    <tr>\n",
       "      <th>3</th>\n",
       "      <td>3600</td>\n",
       "      <td>3</td>\n",
       "      <td>30</td>\n",
       "      <td>595000</td>\n",
       "    </tr>\n",
       "    <tr>\n",
       "      <th>4</th>\n",
       "      <td>4000</td>\n",
       "      <td>5</td>\n",
       "      <td>8</td>\n",
       "      <td>760000</td>\n",
       "    </tr>\n",
       "    <tr>\n",
       "      <th>5</th>\n",
       "      <td>4100</td>\n",
       "      <td>6</td>\n",
       "      <td>8</td>\n",
       "      <td>810000</td>\n",
       "    </tr>\n",
       "  </tbody>\n",
       "</table>\n",
       "</div>"
      ],
      "text/plain": [
       "    CPI  discounts  offers   Sales\n",
       "0  2600          3      20  550000\n",
       "1  3000          4      15  565000\n",
       "2  3200          5      18  610000\n",
       "3  3600          3      30  595000\n",
       "4  4000          5       8  760000\n",
       "5  4100          6       8  810000"
      ]
     },
     "execution_count": 4,
     "metadata": {},
     "output_type": "execute_result"
    }
   ],
   "source": [
    "df"
   ]
  },
  {
   "cell_type": "code",
   "execution_count": 5,
   "id": "6695c846",
   "metadata": {},
   "outputs": [
    {
     "name": "stdout",
     "output_type": "stream",
     "text": [
      "<class 'pandas.core.frame.DataFrame'>\n",
      "RangeIndex: 6 entries, 0 to 5\n",
      "Data columns (total 4 columns):\n",
      " #   Column     Non-Null Count  Dtype\n",
      "---  ------     --------------  -----\n",
      " 0   CPI        6 non-null      int64\n",
      " 1   discounts  6 non-null      int64\n",
      " 2   offers     6 non-null      int64\n",
      " 3   Sales      6 non-null      int64\n",
      "dtypes: int64(4)\n",
      "memory usage: 324.0 bytes\n"
     ]
    }
   ],
   "source": [
    "df.info()"
   ]
  },
  {
   "cell_type": "code",
   "execution_count": 6,
   "id": "05d7485c",
   "metadata": {},
   "outputs": [
    {
     "data": {
      "text/html": [
       "<div>\n",
       "<style scoped>\n",
       "    .dataframe tbody tr th:only-of-type {\n",
       "        vertical-align: middle;\n",
       "    }\n",
       "\n",
       "    .dataframe tbody tr th {\n",
       "        vertical-align: top;\n",
       "    }\n",
       "\n",
       "    .dataframe thead th {\n",
       "        text-align: right;\n",
       "    }\n",
       "</style>\n",
       "<table border=\"1\" class=\"dataframe\">\n",
       "  <thead>\n",
       "    <tr style=\"text-align: right;\">\n",
       "      <th></th>\n",
       "      <th>CPI</th>\n",
       "      <th>discounts</th>\n",
       "      <th>offers</th>\n",
       "      <th>Sales</th>\n",
       "    </tr>\n",
       "  </thead>\n",
       "  <tbody>\n",
       "    <tr>\n",
       "      <th>count</th>\n",
       "      <td>6.000000</td>\n",
       "      <td>6.000000</td>\n",
       "      <td>6.000000</td>\n",
       "      <td>6.000000</td>\n",
       "    </tr>\n",
       "    <tr>\n",
       "      <th>mean</th>\n",
       "      <td>3416.666667</td>\n",
       "      <td>4.333333</td>\n",
       "      <td>16.500000</td>\n",
       "      <td>648333.333333</td>\n",
       "    </tr>\n",
       "    <tr>\n",
       "      <th>std</th>\n",
       "      <td>587.934237</td>\n",
       "      <td>1.211060</td>\n",
       "      <td>8.288546</td>\n",
       "      <td>109117.673484</td>\n",
       "    </tr>\n",
       "    <tr>\n",
       "      <th>min</th>\n",
       "      <td>2600.000000</td>\n",
       "      <td>3.000000</td>\n",
       "      <td>8.000000</td>\n",
       "      <td>550000.000000</td>\n",
       "    </tr>\n",
       "    <tr>\n",
       "      <th>25%</th>\n",
       "      <td>3050.000000</td>\n",
       "      <td>3.250000</td>\n",
       "      <td>9.750000</td>\n",
       "      <td>572500.000000</td>\n",
       "    </tr>\n",
       "    <tr>\n",
       "      <th>50%</th>\n",
       "      <td>3400.000000</td>\n",
       "      <td>4.500000</td>\n",
       "      <td>16.500000</td>\n",
       "      <td>602500.000000</td>\n",
       "    </tr>\n",
       "    <tr>\n",
       "      <th>75%</th>\n",
       "      <td>3900.000000</td>\n",
       "      <td>5.000000</td>\n",
       "      <td>19.500000</td>\n",
       "      <td>722500.000000</td>\n",
       "    </tr>\n",
       "    <tr>\n",
       "      <th>max</th>\n",
       "      <td>4100.000000</td>\n",
       "      <td>6.000000</td>\n",
       "      <td>30.000000</td>\n",
       "      <td>810000.000000</td>\n",
       "    </tr>\n",
       "  </tbody>\n",
       "</table>\n",
       "</div>"
      ],
      "text/plain": [
       "               CPI  discounts     offers          Sales\n",
       "count     6.000000   6.000000   6.000000       6.000000\n",
       "mean   3416.666667   4.333333  16.500000  648333.333333\n",
       "std     587.934237   1.211060   8.288546  109117.673484\n",
       "min    2600.000000   3.000000   8.000000  550000.000000\n",
       "25%    3050.000000   3.250000   9.750000  572500.000000\n",
       "50%    3400.000000   4.500000  16.500000  602500.000000\n",
       "75%    3900.000000   5.000000  19.500000  722500.000000\n",
       "max    4100.000000   6.000000  30.000000  810000.000000"
      ]
     },
     "execution_count": 6,
     "metadata": {},
     "output_type": "execute_result"
    }
   ],
   "source": [
    "#display summary statis\n",
    "df.describe()"
   ]
  },
  {
   "cell_type": "code",
   "execution_count": 7,
   "id": "1560efcc",
   "metadata": {},
   "outputs": [],
   "source": [
    "# Fitting the linear model\n",
    "x = df[['CPI', 'discounts', 'offers']]\n",
    "y = df.Sales"
   ]
  },
  {
   "cell_type": "code",
   "execution_count": 8,
   "id": "bb8b07a4",
   "metadata": {},
   "outputs": [],
   "source": [
    "from sklearn.model_selection import train_test_split\n",
    "x_train, x_test, y_train, y_test = train_test_split(x, y,random_state = 0,test_size=0.25)"
   ]
  },
  {
   "cell_type": "code",
   "execution_count": 9,
   "id": "42da26db",
   "metadata": {},
   "outputs": [
    {
     "name": "stdout",
     "output_type": "stream",
     "text": [
      "R squared: 0.9517053277318955\n"
     ]
    }
   ],
   "source": [
    "regr = linear_model.LinearRegression()\n",
    "regr.fit(x,y)\n",
    "y_pred = regr.predict(x)\n",
    "print(\"R squared: {}\".format(r2_score(y_true=y,y_pred=y_pred))) #95% good model"
   ]
  },
  {
   "cell_type": "code",
   "execution_count": 10,
   "id": "1a15bfc0",
   "metadata": {},
   "outputs": [
    {
     "name": "stdout",
     "output_type": "stream",
     "text": [
      "Mean of Residuals -5.820766091346741e-11\n"
     ]
    }
   ],
   "source": [
    "#mean of residuals - close to zero --> one of the assumption to see\n",
    "residuals = y.values-y_pred\n",
    "mean_residuals = np.mean(residuals)\n",
    "print(\"Mean of Residuals {}\".format(mean_residuals))"
   ]
  },
  {
   "cell_type": "code",
   "execution_count": 11,
   "id": "51f61ea2",
   "metadata": {},
   "outputs": [
    {
     "data": {
      "text/plain": [
       "array([518401.04171196, 600201.34257367, 617094.24971522, 597810.70928584,\n",
       "       768867.81214403, 787624.84456927])"
      ]
     },
     "execution_count": 11,
     "metadata": {},
     "output_type": "execute_result"
    }
   ],
   "source": [
    "y_pred"
   ]
  },
  {
   "cell_type": "code",
   "execution_count": 12,
   "id": "e41c9691",
   "metadata": {},
   "outputs": [
    {
     "data": {
      "text/plain": [
       "array([ 31598.95828804, -35201.34257367,  -7094.24971522,  -2810.70928584,\n",
       "        -8867.81214403,  22375.15543073])"
      ]
     },
     "execution_count": 12,
     "metadata": {},
     "output_type": "execute_result"
    }
   ],
   "source": [
    "residuals"
   ]
  },
  {
   "cell_type": "code",
   "execution_count": 13,
   "id": "82f295d8",
   "metadata": {},
   "outputs": [
    {
     "data": {
      "text/plain": [
       "<matplotlib.lines.Line2D at 0x221a2eebc90>"
      ]
     },
     "execution_count": 13,
     "metadata": {},
     "output_type": "execute_result"
    },
    {
     "data": {
      "image/png": "[encoded data removed]",
      "text/plain": [
       "<Figure size 640x480 with 1 Axes>"
      ]
     },
     "metadata": {},
     "output_type": "display_data"
    }
   ],
   "source": [
    "# Create a scatter plot\n",
    "#plt.scatter(y_pred, residuals)\n",
    "p = sns.scatterplot(x=y_pred, y=residuals)\n",
    "plt.xlabel('y_pred/predicted values')\n",
    "plt.ylabel('Residuals')\n",
    "plt.ylim(-7, 7)\n",
    "plt.xlim(1000, 55000)  # Adjust x-axis limits based on your data\n",
    "# Add a reference line at y=0\n",
    "plt.axhline(y=0, color='blue', linestyle='--')"
   ]
  },
  {
   "cell_type": "code",
   "execution_count": 14,
   "id": "1ab83eb5",
   "metadata": {},
   "outputs": [
    {
     "name": "stderr",
     "output_type": "stream",
     "text": [
      "C:\\Users\\rajha\\AppData\\Local\\Temp\\ipykernel_13720\\3040778317.py:1: UserWarning: \n",
      "\n",
      "`distplot` is a deprecated function and will be removed in seaborn v0.14.0.\n",
      "\n",
      "Please adapt your code to use either `displot` (a figure-level function with\n",
      "similar flexibility) or `histplot` (an axes-level function for histograms).\n",
      "\n",
      "For a guide to updating your code to use the new functions, please see\n",
      "https://gist.github.com/mwaskom/de44147ed2974457ad6372750bbe5751\n",
      "\n",
      "  p = sns.distplot(residuals,kde=True)\n"
     ]
    },
    {
     "data": {
      "image/png": "[encoded data removed]",
      "text/plain": [
       "<Figure size 640x480 with 1 Axes>"
      ]
     },
     "metadata": {},
     "output_type": "display_data"
    }
   ],
   "source": [
    "p = sns.distplot(residuals,kde=True)\n",
    "p = plt.title('Normality of error terms/residuals')"
   ]
  },
  {
   "cell_type": "code",
   "execution_count": 15,
   "id": "4728f789",
   "metadata": {},
   "outputs": [
    {
     "data": {
      "text/html": [
       "<div>\n",
       "<style scoped>\n",
       "    .dataframe tbody tr th:only-of-type {\n",
       "        vertical-align: middle;\n",
       "    }\n",
       "\n",
       "    .dataframe tbody tr th {\n",
       "        vertical-align: top;\n",
       "    }\n",
       "\n",
       "    .dataframe thead th {\n",
       "        text-align: right;\n",
       "    }\n",
       "</style>\n",
       "<table border=\"1\" class=\"dataframe\">\n",
       "  <thead>\n",
       "    <tr style=\"text-align: right;\">\n",
       "      <th></th>\n",
       "      <th>CPI</th>\n",
       "      <th>discounts</th>\n",
       "      <th>offers</th>\n",
       "      <th>Sales</th>\n",
       "    </tr>\n",
       "  </thead>\n",
       "  <tbody>\n",
       "    <tr>\n",
       "      <th>CPI</th>\n",
       "      <td>100.000000</td>\n",
       "      <td>66.477186</td>\n",
       "      <td>-44.529992</td>\n",
       "      <td>90.147643</td>\n",
       "    </tr>\n",
       "    <tr>\n",
       "      <th>discounts</th>\n",
       "      <td>66.477186</td>\n",
       "      <td>100.000000</td>\n",
       "      <td>-81.690165</td>\n",
       "      <td>82.987720</td>\n",
       "    </tr>\n",
       "    <tr>\n",
       "      <th>offers</th>\n",
       "      <td>-44.529992</td>\n",
       "      <td>-81.690165</td>\n",
       "      <td>100.000000</td>\n",
       "      <td>-73.416658</td>\n",
       "    </tr>\n",
       "    <tr>\n",
       "      <th>Sales</th>\n",
       "      <td>90.147643</td>\n",
       "      <td>82.987720</td>\n",
       "      <td>-73.416658</td>\n",
       "      <td>100.000000</td>\n",
       "    </tr>\n",
       "  </tbody>\n",
       "</table>\n",
       "</div>"
      ],
      "text/plain": [
       "                  CPI   discounts      offers       Sales\n",
       "CPI        100.000000   66.477186  -44.529992   90.147643\n",
       "discounts   66.477186  100.000000  -81.690165   82.987720\n",
       "offers     -44.529992  -81.690165  100.000000  -73.416658\n",
       "Sales       90.147643   82.987720  -73.416658  100.000000"
      ]
     },
     "execution_count": 15,
     "metadata": {},
     "output_type": "execute_result"
    }
   ],
   "source": [
    "df.corr()*100 #disc, sales, cpi has high correlation"
   ]
  },
  {
   "cell_type": "code",
   "execution_count": 16,
   "id": "24a6b67f",
   "metadata": {},
   "outputs": [
    {
     "name": "stdout",
     "output_type": "stream",
     "text": [
      "                            OLS Regression Results                            \n",
      "==============================================================================\n",
      "Dep. Variable:                  Sales   R-squared:                       0.952\n",
      "Model:                            OLS   Adj. R-squared:                  0.879\n",
      "Method:                 Least Squares   F-statistic:                     13.14\n",
      "Date:                Sat, 27 Jan 2024   Prob (F-statistic):             0.0716\n",
      "Time:                        17:41:12   Log-Likelihood:                -68.476\n",
      "No. Observations:                   6   AIC:                             145.0\n",
      "Df Residuals:                       2   BIC:                             144.1\n",
      "Df Model:                           3                                         \n",
      "Covariance Type:            nonrobust                                         \n",
      "==============================================================================\n",
      "                 coef    std err          t      P>|t|      [0.025      0.975]\n",
      "------------------------------------------------------------------------------\n",
      "Intercept   2.648e+05   1.64e+05      1.613      0.248   -4.41e+05    9.71e+05\n",
      "CPI          128.4351     39.639      3.240      0.083     -42.120     298.990\n",
      "offers     -4902.5460   3641.815     -1.346      0.311   -2.06e+04    1.08e+04\n",
      "discounts   5913.5196   2.99e+04      0.198      0.861   -1.23e+05    1.34e+05\n",
      "==============================================================================\n",
      "Omnibus:                          nan   Durbin-Watson:                   2.185\n",
      "Prob(Omnibus):                    nan   Jarque-Bera (JB):                0.238\n",
      "Skew:                          -0.031   Prob(JB):                        0.888\n",
      "Kurtosis:                       2.026   Cond. No.                     3.69e+04\n",
      "==============================================================================\n",
      "\n",
      "Notes:\n",
      "[1] Standard Errors assume that the covariance matrix of the errors is correctly specified.\n",
      "[2] The condition number is large, 3.69e+04. This might indicate that there are\n",
      "strong multicollinearity or other numerical problems.\n"
     ]
    },
    {
     "name": "stderr",
     "output_type": "stream",
     "text": [
      "C:\\Users\\rajha\\anaconda3\\Lib\\site-packages\\statsmodels\\stats\\stattools.py:74: ValueWarning: omni_normtest is not valid with less than 8 observations; 6 samples were given.\n",
      "  warn(\"omni_normtest is not valid with less than 8 observations; %i \"\n"
     ]
    }
   ],
   "source": [
    "#lets build a model using smf \n",
    "import statsmodels.api as sm\n",
    "import statsmodels.formula.api as smf\n",
    "\n",
    "model = smf.ols(formula = \"Sales ~ CPI + offers + discounts\", data = df) #95% best model\n",
    "res = model.fit()\n",
    "print(res.summary())  \n"
   ]
  },
  {
   "cell_type": "code",
   "execution_count": 17,
   "id": "c71f7cb4",
   "metadata": {},
   "outputs": [
    {
     "data": {
      "text/plain": [
       "826645.3483858006"
      ]
     },
     "execution_count": 17,
     "metadata": {},
     "output_type": "execute_result"
    }
   ],
   "source": [
    "#using smf -> predicting the sales \n",
    "#5000 cpi , 3 percentage discounts, 20 offers\n",
    "128.43512778*5000 + 5913.51964731*3 -4902.54602054*20 + 264780.07095467084\n"
   ]
  },
  {
   "cell_type": "code",
   "execution_count": 18,
   "id": "7768cf80",
   "metadata": {},
   "outputs": [
    {
     "data": {
      "text/html": [
       "<style>#sk-container-id-1 {color: black;}#sk-container-id-1 pre{padding: 0;}#sk-container-id-1 div.sk-toggleable {background-color: white;}#sk-container-id-1 label.sk-toggleable__label {cursor: pointer;display: block;width: 100%;margin-bottom: 0;padding: 0.3em;box-sizing: border-box;text-align: center;}#sk-container-id-1 label.sk-toggleable__label-arrow:before {content: \"▸\";float: left;margin-right: 0.25em;color: #696969;}#sk-container-id-1 label.sk-toggleable__label-arrow:hover:before {color: black;}#sk-container-id-1 div.sk-estimator:hover label.sk-toggleable__label-arrow:before {color: black;}#sk-container-id-1 div.sk-toggleable__content {max-height: 0;max-width: 0;overflow: hidden;text-align: left;background-color: #f0f8ff;}#sk-container-id-1 div.sk-toggleable__content pre {margin: 0.2em;color: black;border-radius: 0.25em;background-color: #f0f8ff;}#sk-container-id-1 input.sk-toggleable__control:checked~div.sk-toggleable__content {max-height: 200px;max-width: 100%;overflow: auto;}#sk-container-id-1 input.sk-toggleable__control:checked~label.sk-toggleable__label-arrow:before {content: \"▾\";}#sk-container-id-1 div.sk-estimator input.sk-toggleable__control:checked~label.sk-toggleable__label {background-color: #d4ebff;}#sk-container-id-1 div.sk-label input.sk-toggleable__control:checked~label.sk-toggleable__label {background-color: #d4ebff;}#sk-container-id-1 input.sk-hidden--visually {border: 0;clip: rect(1px 1px 1px 1px);clip: rect(1px, 1px, 1px, 1px);height: 1px;margin: -1px;overflow: hidden;padding: 0;position: absolute;width: 1px;}#sk-container-id-1 div.sk-estimator {font-family: monospace;background-color: #f0f8ff;border: 1px dotted black;border-radius: 0.25em;box-sizing: border-box;margin-bottom: 0.5em;}#sk-container-id-1 div.sk-estimator:hover {background-color: #d4ebff;}#sk-container-id-1 div.sk-parallel-item::after {content: \"\";width: 100%;border-bottom: 1px solid gray;flex-grow: 1;}#sk-container-id-1 div.sk-label:hover label.sk-toggleable__label {background-color: #d4ebff;}#sk-container-id-1 div.sk-serial::before {content: \"\";position: absolute;border-left: 1px solid gray;box-sizing: border-box;top: 0;bottom: 0;left: 50%;z-index: 0;}#sk-container-id-1 div.sk-serial {display: flex;flex-direction: column;align-items: center;background-color: white;padding-right: 0.2em;padding-left: 0.2em;position: relative;}#sk-container-id-1 div.sk-item {position: relative;z-index: 1;}#sk-container-id-1 div.sk-parallel {display: flex;align-items: stretch;justify-content: center;background-color: white;position: relative;}#sk-container-id-1 div.sk-item::before, #sk-container-id-1 div.sk-parallel-item::before {content: \"\";position: absolute;border-left: 1px solid gray;box-sizing: border-box;top: 0;bottom: 0;left: 50%;z-index: -1;}#sk-container-id-1 div.sk-parallel-item {display: flex;flex-direction: column;z-index: 1;position: relative;background-color: white;}#sk-container-id-1 div.sk-parallel-item:first-child::after {align-self: flex-end;width: 50%;}#sk-container-id-1 div.sk-parallel-item:last-child::after {align-self: flex-start;width: 50%;}#sk-container-id-1 div.sk-parallel-item:only-child::after {width: 0;}#sk-container-id-1 div.sk-dashed-wrapped {border: 1px dashed gray;margin: 0 0.4em 0.5em 0.4em;box-sizing: border-box;padding-bottom: 0.4em;background-color: white;}#sk-container-id-1 div.sk-label label {font-family: monospace;font-weight: bold;display: inline-block;line-height: 1.2em;}#sk-container-id-1 div.sk-label-container {text-align: center;}#sk-container-id-1 div.sk-container {/* jupyter's `normalize.less` sets `[hidden] { display: none; }` but bootstrap.min.css set `[hidden] { display: none !important; }` so we also need the `!important` here to be able to override the default hidden behavior on the sphinx rendered scikit-learn.org. See: https://github.com/scikit-learn/scikit-learn/issues/21755 */display: inline-block !important;position: relative;}#sk-container-id-1 div.sk-text-repr-fallback {display: none;}</style><div id=\"sk-container-id-1\" class=\"sk-top-container\"><div class=\"sk-text-repr-fallback\"><pre>LinearRegression()</pre><b>In a Jupyter environment, please rerun this cell to show the HTML representation or trust the notebook. <br />On GitHub, the HTML representation is unable to render, please try loading this page with nbviewer.org.</b></div><div class=\"sk-container\" hidden><div class=\"sk-item\"><div class=\"sk-estimator sk-toggleable\"><input class=\"sk-toggleable__control sk-hidden--visually\" id=\"sk-estimator-id-1\" type=\"checkbox\" checked><label for=\"sk-estimator-id-1\" class=\"sk-toggleable__label sk-toggleable__label-arrow\">LinearRegression</label><div class=\"sk-toggleable__content\"><pre>LinearRegression()</pre></div></div></div></div></div>"
      ],
      "text/plain": [
       "LinearRegression()"
      ]
     },
     "execution_count": 18,
     "metadata": {},
     "output_type": "execute_result"
    }
   ],
   "source": [
    "#another easy method using linear_model\n",
    "x = df[['CPI','discounts', 'offers']]\n",
    "y = df['Sales']\n",
    "\n",
    "# import model \n",
    "from sklearn.linear_model import LinearRegression\n",
    "model = LinearRegression()\n",
    "model.fit(x, y)"
   ]
  },
  {
   "cell_type": "code",
   "execution_count": 19,
   "id": "f7418444",
   "metadata": {},
   "outputs": [
    {
     "data": {
      "text/plain": [
       "array([  128.43512778,  5913.51964731, -4902.54602054])"
      ]
     },
     "execution_count": 19,
     "metadata": {},
     "output_type": "execute_result"
    }
   ],
   "source": [
    "model.coef_"
   ]
  },
  {
   "cell_type": "code",
   "execution_count": 20,
   "id": "6c3d2d0c",
   "metadata": {},
   "outputs": [
    {
     "data": {
      "text/plain": [
       "264780.07095467084"
      ]
     },
     "execution_count": 20,
     "metadata": {},
     "output_type": "execute_result"
    }
   ],
   "source": [
    "model.intercept_"
   ]
  },
  {
   "cell_type": "code",
   "execution_count": 21,
   "id": "02116f2e",
   "metadata": {},
   "outputs": [
    {
     "name": "stderr",
     "output_type": "stream",
     "text": [
      "C:\\Users\\rajha\\anaconda3\\Lib\\site-packages\\sklearn\\base.py:464: UserWarning: X does not have valid feature names, but LinearRegression was fitted with feature names\n",
      "  warnings.warn(\n"
     ]
    },
    {
     "data": {
      "text/plain": [
       "array([826645.34838222])"
      ]
     },
     "execution_count": 21,
     "metadata": {},
     "output_type": "execute_result"
    }
   ],
   "source": [
    "#predicting the sales using linear model gives the same answer as smf model \n",
    "#5000 cpi , 3 percentage discounts, 20 offers\n",
    "model.predict([[ 5000, 3, 20 ]]) "
   ]
  },
  {
   "cell_type": "code",
   "execution_count": 22,
   "id": "a347b1d6",
   "metadata": {},
   "outputs": [
    {
     "name": "stderr",
     "output_type": "stream",
     "text": [
      "C:\\Users\\rajha\\anaconda3\\Lib\\site-packages\\sklearn\\base.py:464: UserWarning: X does not have valid feature names, but LinearRegression was fitted with feature names\n",
      "  warnings.warn(\n"
     ]
    },
    {
     "data": {
      "text/plain": [
       "array([732680.36486005])"
      ]
     },
     "execution_count": 22,
     "metadata": {},
     "output_type": "execute_result"
    }
   ],
   "source": [
    "#predicting the sales using linear model gives the same answer as smf model \n",
    "#4000 cpi , 8 percentage discounts, 19 offers\n",
    "model.predict([[ 4000, 8, 19 ]])"
   ]
  },
  {
   "cell_type": "markdown",
   "id": "df9cb998",
   "metadata": {},
   "source": [
    "Comment on the result: \n",
    "    Sales prediction with multiple variables using Multiple regression to predict the values and 4 assumptions. The linear model and smf statistics both models were prepared for this assessment \n",
    "    For 5000 cpi, 3 percent discounts, 20 offers – sales are 826645.34\n",
    "    For 4000 cpi, 8 percent discounts, 19 offers – sales are 732680.36\n"
   ]
  },
  {
   "cell_type": "code",
   "execution_count": 23,
   "id": "b15920c1",
   "metadata": {},
   "outputs": [
    {
     "data": {
      "text/html": [
       "<div>\n",
       "<style scoped>\n",
       "    .dataframe tbody tr th:only-of-type {\n",
       "        vertical-align: middle;\n",
       "    }\n",
       "\n",
       "    .dataframe tbody tr th {\n",
       "        vertical-align: top;\n",
       "    }\n",
       "\n",
       "    .dataframe thead th {\n",
       "        text-align: right;\n",
       "    }\n",
       "</style>\n",
       "<table border=\"1\" class=\"dataframe\">\n",
       "  <thead>\n",
       "    <tr style=\"text-align: right;\">\n",
       "      <th></th>\n",
       "      <th>Cutomer id</th>\n",
       "      <th>Cards</th>\n",
       "      <th>Debit card</th>\n",
       "      <th>Insurance</th>\n",
       "      <th>Age</th>\n",
       "      <th>Cibil Score</th>\n",
       "      <th>Loan offer</th>\n",
       "    </tr>\n",
       "  </thead>\n",
       "  <tbody>\n",
       "    <tr>\n",
       "      <th>0</th>\n",
       "      <td>5</td>\n",
       "      <td>0.0</td>\n",
       "      <td>1.0</td>\n",
       "      <td>0.0</td>\n",
       "      <td>50.0</td>\n",
       "      <td>34.940</td>\n",
       "      <td>0</td>\n",
       "    </tr>\n",
       "    <tr>\n",
       "      <th>1</th>\n",
       "      <td>3</td>\n",
       "      <td>1.0</td>\n",
       "      <td>0.0</td>\n",
       "      <td>0.0</td>\n",
       "      <td>18.0</td>\n",
       "      <td>0.891</td>\n",
       "      <td>1</td>\n",
       "    </tr>\n",
       "    <tr>\n",
       "      <th>2</th>\n",
       "      <td>66</td>\n",
       "      <td>0.0</td>\n",
       "      <td>1.0</td>\n",
       "      <td>0.0</td>\n",
       "      <td>5.0</td>\n",
       "      <td>0.330</td>\n",
       "      <td>1</td>\n",
       "    </tr>\n",
       "    <tr>\n",
       "      <th>3</th>\n",
       "      <td>70</td>\n",
       "      <td>0.0</td>\n",
       "      <td>1.0</td>\n",
       "      <td>1.0</td>\n",
       "      <td>31.0</td>\n",
       "      <td>0.037</td>\n",
       "      <td>0</td>\n",
       "    </tr>\n",
       "    <tr>\n",
       "      <th>4</th>\n",
       "      <td>96</td>\n",
       "      <td>0.0</td>\n",
       "      <td>1.0</td>\n",
       "      <td>0.0</td>\n",
       "      <td>30.0</td>\n",
       "      <td>0.038</td>\n",
       "      <td>1</td>\n",
       "    </tr>\n",
       "    <tr>\n",
       "      <th>...</th>\n",
       "      <td>...</td>\n",
       "      <td>...</td>\n",
       "      <td>...</td>\n",
       "      <td>...</td>\n",
       "      <td>...</td>\n",
       "      <td>...</td>\n",
       "      <td>...</td>\n",
       "    </tr>\n",
       "    <tr>\n",
       "      <th>1335</th>\n",
       "      <td>34100</td>\n",
       "      <td>0.0</td>\n",
       "      <td>1.0</td>\n",
       "      <td>0.0</td>\n",
       "      <td>NaN</td>\n",
       "      <td>0.576</td>\n",
       "      <td>1</td>\n",
       "    </tr>\n",
       "    <tr>\n",
       "      <th>1336</th>\n",
       "      <td>34110</td>\n",
       "      <td>1.0</td>\n",
       "      <td>1.0</td>\n",
       "      <td>0.0</td>\n",
       "      <td>46.0</td>\n",
       "      <td>3.705</td>\n",
       "      <td>0</td>\n",
       "    </tr>\n",
       "    <tr>\n",
       "      <th>1337</th>\n",
       "      <td>34113</td>\n",
       "      <td>1.0</td>\n",
       "      <td>1.0</td>\n",
       "      <td>0.0</td>\n",
       "      <td>39.0</td>\n",
       "      <td>0.099</td>\n",
       "      <td>1</td>\n",
       "    </tr>\n",
       "    <tr>\n",
       "      <th>1338</th>\n",
       "      <td>34145</td>\n",
       "      <td>1.0</td>\n",
       "      <td>0.0</td>\n",
       "      <td>0.0</td>\n",
       "      <td>8.0</td>\n",
       "      <td>3.177</td>\n",
       "      <td>0</td>\n",
       "    </tr>\n",
       "    <tr>\n",
       "      <th>1339</th>\n",
       "      <td>34153</td>\n",
       "      <td>1.0</td>\n",
       "      <td>1.0</td>\n",
       "      <td>0.0</td>\n",
       "      <td>30.0</td>\n",
       "      <td>0.688</td>\n",
       "      <td>1</td>\n",
       "    </tr>\n",
       "  </tbody>\n",
       "</table>\n",
       "<p>1340 rows × 7 columns</p>\n",
       "</div>"
      ],
      "text/plain": [
       "      Cutomer id  Cards  Debit card  Insurance   Age  Cibil Score  Loan offer\n",
       "0              5    0.0         1.0        0.0  50.0       34.940           0\n",
       "1              3    1.0         0.0        0.0  18.0        0.891           1\n",
       "2             66    0.0         1.0        0.0   5.0        0.330           1\n",
       "3             70    0.0         1.0        1.0  31.0        0.037           0\n",
       "4             96    0.0         1.0        0.0  30.0        0.038           1\n",
       "...          ...    ...         ...        ...   ...          ...         ...\n",
       "1335       34100    0.0         1.0        0.0   NaN        0.576           1\n",
       "1336       34110    1.0         1.0        0.0  46.0        3.705           0\n",
       "1337       34113    1.0         1.0        0.0  39.0        0.099           1\n",
       "1338       34145    1.0         0.0        0.0   8.0        3.177           0\n",
       "1339       34153    1.0         1.0        0.0  30.0        0.688           1\n",
       "\n",
       "[1340 rows x 7 columns]"
      ]
     },
     "execution_count": 23,
     "metadata": {},
     "output_type": "execute_result"
    }
   ],
   "source": [
    "#Assessment 2 \n",
    "df1 = pd.read_excel(r\"C:\\Users\\rajha\\Downloads\\Data set.xlsx\", sheet_name=1)\n",
    "df1"
   ]
  },
  {
   "cell_type": "code",
   "execution_count": 24,
   "id": "e12f6e8f",
   "metadata": {},
   "outputs": [
    {
     "data": {
      "text/plain": [
       "array([0, 1], dtype=int64)"
      ]
     },
     "execution_count": 24,
     "metadata": {},
     "output_type": "execute_result"
    }
   ],
   "source": [
    "df1['Cards'].unique()\n",
    "df1['Loan offer'].unique() #dep factor"
   ]
  },
  {
   "cell_type": "code",
   "execution_count": 25,
   "id": "a1d13d2f",
   "metadata": {},
   "outputs": [
    {
     "name": "stdout",
     "output_type": "stream",
     "text": [
      "<class 'pandas.core.frame.DataFrame'>\n",
      "RangeIndex: 1340 entries, 0 to 1339\n",
      "Data columns (total 7 columns):\n",
      " #   Column       Non-Null Count  Dtype  \n",
      "---  ------       --------------  -----  \n",
      " 0   Cutomer id   1340 non-null   int64  \n",
      " 1   Cards        1328 non-null   float64\n",
      " 2   Debit card   1299 non-null   float64\n",
      " 3   Insurance    1292 non-null   float64\n",
      " 4   Age          1151 non-null   float64\n",
      " 5   Cibil Score  1340 non-null   float64\n",
      " 6   Loan offer   1340 non-null   int64  \n",
      "dtypes: float64(5), int64(2)\n",
      "memory usage: 73.4 KB\n"
     ]
    }
   ],
   "source": [
    "df1.info()"
   ]
  },
  {
   "cell_type": "code",
   "execution_count": 26,
   "id": "2c205cbc",
   "metadata": {},
   "outputs": [
    {
     "data": {
      "text/plain": [
       "(1340, 7)"
      ]
     },
     "execution_count": 26,
     "metadata": {},
     "output_type": "execute_result"
    }
   ],
   "source": [
    "df1.shape "
   ]
  },
  {
   "cell_type": "code",
   "execution_count": 27,
   "id": "ec693437",
   "metadata": {},
   "outputs": [
    {
     "data": {
      "text/plain": [
       "Cutomer id       0\n",
       "Cards           12\n",
       "Debit card      41\n",
       "Insurance       48\n",
       "Age            189\n",
       "Cibil Score      0\n",
       "Loan offer       0\n",
       "dtype: int64"
      ]
     },
     "execution_count": 27,
     "metadata": {},
     "output_type": "execute_result"
    }
   ],
   "source": [
    "#eda for data\n",
    "df1.isnull().sum()"
   ]
  },
  {
   "cell_type": "code",
   "execution_count": 28,
   "id": "faf7ef92",
   "metadata": {},
   "outputs": [
    {
     "data": {
      "text/plain": [
       "3.582089552238806"
      ]
     },
     "execution_count": 28,
     "metadata": {},
     "output_type": "execute_result"
    }
   ],
   "source": [
    "(df1['Age'].isnull().sum()/len(df1['Age']))*100 #14% needs to do impute\n",
    "(df1['Cards'].isnull().sum()/len(df1['Cards']))*100 #0.8 only we can drop the na\n",
    "(df1['Debit card'].isnull().sum()/len(df1['Debit card']))*100 #3 only we can drop \n",
    "(df1['Insurance'].isnull().sum()/len(df1['Insurance']))*100 #3 only we can drop "
   ]
  },
  {
   "cell_type": "code",
   "execution_count": 29,
   "id": "4c6847a3",
   "metadata": {},
   "outputs": [
    {
     "name": "stderr",
     "output_type": "stream",
     "text": [
      "C:\\Users\\rajha\\anaconda3\\Lib\\site-packages\\seaborn\\axisgrid.py:118: UserWarning: The figure layout has changed to tight\n",
      "  self._figure.tight_layout(*args, **kwargs)\n"
     ]
    },
    {
     "data": {
      "text/plain": [
       "<seaborn.axisgrid.FacetGrid at 0x221a66e4bd0>"
      ]
     },
     "execution_count": 29,
     "metadata": {},
     "output_type": "execute_result"
    },
    {
     "data": {
      "image/png": "[encoded data removed]",
      "text/plain": [
       "<Figure size 500x500 with 1 Axes>"
      ]
     },
     "metadata": {},
     "output_type": "display_data"
    }
   ],
   "source": [
    "sns.displot(x='Age', data = df1)"
   ]
  },
  {
   "cell_type": "code",
   "execution_count": 30,
   "id": "ea468dfb",
   "metadata": {},
   "outputs": [],
   "source": [
    "#data cleaning \n",
    "df1['Age'].mean() #28.41\n",
    "df1['Age'].fillna(df1['Age'].mean(), inplace = True)"
   ]
  },
  {
   "cell_type": "code",
   "execution_count": 31,
   "id": "db2006b0",
   "metadata": {},
   "outputs": [
    {
     "data": {
      "text/plain": [
       "(1269, 7)"
      ]
     },
     "execution_count": 31,
     "metadata": {},
     "output_type": "execute_result"
    }
   ],
   "source": [
    "#removing null values from the dataset \n",
    "df1 = df1.dropna()\n",
    "df1.isnull().sum()\n",
    "df1.shape "
   ]
  },
  {
   "cell_type": "code",
   "execution_count": 32,
   "id": "1ec8173d",
   "metadata": {},
   "outputs": [
    {
     "data": {
      "text/plain": [
       "<Axes: xlabel='Loan offer', ylabel='count'>"
      ]
     },
     "execution_count": 32,
     "metadata": {},
     "output_type": "execute_result"
    },
    {
     "data": {
      "image/png": "[encoded data removed]",
      "text/plain": [
       "<Figure size 640x480 with 1 Axes>"
      ]
     },
     "metadata": {},
     "output_type": "display_data"
    }
   ],
   "source": [
    "#countplot to see the loan possibility \n",
    "sns.countplot(x='Loan offer', data = df1) #very lil diff to get the loan in dataset"
   ]
  },
  {
   "cell_type": "code",
   "execution_count": 33,
   "id": "f83119b4",
   "metadata": {},
   "outputs": [
    {
     "data": {
      "image/png": "[encoded data removed]",
      "text/plain": [
       "<Figure size 640x480 with 1 Axes>"
      ]
     },
     "metadata": {},
     "output_type": "display_data"
    }
   ],
   "source": [
    "#using only the cibil score to build the model \n",
    "plt.scatter(df1['Cibil Score'], df1['Loan offer'], marker='+', color='green')\n",
    "plt.show()"
   ]
  },
  {
   "cell_type": "code",
   "execution_count": 34,
   "id": "597b2846",
   "metadata": {},
   "outputs": [
    {
     "data": {
      "text/plain": [
       "Sales\n",
       "550000    1\n",
       "565000    1\n",
       "610000    1\n",
       "595000    1\n",
       "760000    1\n",
       "810000    1\n",
       "Name: count, dtype: int64"
      ]
     },
     "execution_count": 34,
     "metadata": {},
     "output_type": "execute_result"
    }
   ],
   "source": [
    "y.value_counts()"
   ]
  },
  {
   "cell_type": "code",
   "execution_count": 35,
   "id": "4bc09a1e",
   "metadata": {},
   "outputs": [
    {
     "name": "stdout",
     "output_type": "stream",
     "text": [
      "Optimization terminated successfully.\n",
      "         Current function value: 0.619081\n",
      "         Iterations 7\n"
     ]
    },
    {
     "data": {
      "text/html": [
       "<table class=\"simpletable\">\n",
       "<tr>\n",
       "        <td>Model:</td>                                                                                                                <td>Logit</td>                                                                                                             <td>Method:</td>          <td>MLE</td>   \n",
       "</tr>\n",
       "<tr>\n",
       "  <td>Dependent Variable:</td> <td>0       34.940\n",
       "1        0.891\n",
       "2        0.330\n",
       "3        0.037\n",
       "4        0.038\n",
       "         ...  \n",
       "1335     0.576\n",
       "1336     3.705\n",
       "1337     0.099\n",
       "1338     3.177\n",
       "1339     0.688\n",
       "Name: Cibil Score, Length: 1269, dtype: float64</td> <td>Pseudo R-squared:</td>    <td>0.107</td>  \n",
       "</tr>\n",
       "<tr>\n",
       "         <td>Date:</td>                                                                                                          <td>2024-01-27 17:48</td>                                                                                                         <td>AIC:</td>         <td>1575.2284</td>\n",
       "</tr>\n",
       "<tr>\n",
       "   <td>No. Observations:</td>                                                                                                          <td>1269</td>                                                                                                               <td>BIC:</td>         <td>1585.5204</td>\n",
       "</tr>\n",
       "<tr>\n",
       "       <td>Df Model:</td>                                                                                                                <td>1</td>                                                                                                           <td>Log-Likelihood:</td>    <td>-785.61</td> \n",
       "</tr>\n",
       "<tr>\n",
       "     <td>Df Residuals:</td>                                                                                                            <td>1267</td>                                                                                                             <td>LL-Null:</td>        <td>-879.43</td> \n",
       "</tr>\n",
       "<tr>\n",
       "      <td>Converged:</td>                                                                                                             <td>1.0000</td>                                                                                                          <td>LLR p-value:</td>    <td>1.0455e-42</td>\n",
       "</tr>\n",
       "<tr>\n",
       "    <td>No. Iterations:</td>                                                                                                          <td>7.0000</td>                                                                                                             <td>Scale:</td>         <td>1.0000</td>  \n",
       "</tr>\n",
       "</table>\n",
       "<table class=\"simpletable\">\n",
       "<tr>\n",
       "       <td></td>        <th>Coef.</th>  <th>Std.Err.</th>     <th>z</th>     <th>P>|z|</th> <th>[0.025</th>  <th>0.975]</th> \n",
       "</tr>\n",
       "<tr>\n",
       "  <th>const</th>       <td>0.6661</td>   <td>0.0825</td>   <td>8.0719</td>  <td>0.0000</td> <td>0.5044</td>  <td>0.8279</td> \n",
       "</tr>\n",
       "<tr>\n",
       "  <th>Cibil Score</th> <td>-0.3022</td>  <td>0.0293</td>  <td>-10.3151</td> <td>0.0000</td> <td>-0.3596</td> <td>-0.2448</td>\n",
       "</tr>\n",
       "</table><br/>\n"
      ],
      "text/latex": [
       "\\begin{table}\n",
       "\\caption{Results: Logit}\n",
       "\\label{}\n",
       "\\begin{center}\n",
       "\\begin{tabular}{llll}\n",
       "\\hline\n",
       "Model:              & Logit                                                                                                                                                                                                                & Method:           & MLE         \\\\\n",
       "Dependent Variable: & 0       34.940\n",
       "1        0.891\n",
       "2        0.330\n",
       "3        0.037\n",
       "4        0.038\n",
       "         ...  \n",
       "1335     0.576\n",
       "1336     3.705\n",
       "1337     0.099\n",
       "1338     3.177\n",
       "1339     0.688\n",
       "Name: Cibil Score, Length: 1269, dtype: float64 & Pseudo R-squared: & 0.107       \\\\\n",
       "Date:               & 2024-01-27 17:48                                                                                                                                                                                                     & AIC:              & 1575.2284   \\\\\n",
       "No. Observations:   & 1269                                                                                                                                                                                                                 & BIC:              & 1585.5204   \\\\\n",
       "Df Model:           & 1                                                                                                                                                                                                                    & Log-Likelihood:   & -785.61     \\\\\n",
       "Df Residuals:       & 1267                                                                                                                                                                                                                 & LL-Null:          & -879.43     \\\\\n",
       "Converged:          & 1.0000                                                                                                                                                                                                               & LLR p-value:      & 1.0455e-42  \\\\\n",
       "No. Iterations:     & 7.0000                                                                                                                                                                                                               & Scale:            & 1.0000      \\\\\n",
       "\\hline\n",
       "\\end{tabular}\n",
       "\\end{center}\n",
       "\n",
       "\\begin{center}\n",
       "\\begin{tabular}{lrrrrrr}\n",
       "\\hline\n",
       "            &   Coef. & Std.Err. &        z & P$> |$z$|$ &  [0.025 &  0.975]  \\\\\n",
       "\\hline\n",
       "const       &  0.6661 &   0.0825 &   8.0719 &      0.0000 &  0.5044 &  0.8279  \\\\\n",
       "Cibil Score & -0.3022 &   0.0293 & -10.3151 &      0.0000 & -0.3596 & -0.2448  \\\\\n",
       "\\hline\n",
       "\\end{tabular}\n",
       "\\end{center}\n",
       "\\end{table}\n",
       "\\bigskip\n"
      ],
      "text/plain": [
       "<class 'statsmodels.iolib.summary2.Summary'>\n",
       "\"\"\"\n",
       "                                                                                                                           Results: Logit\n",
       "=====================================================================================================================================================================================================================================================================\n",
       "Model:              Logit                                                                                                                                                                                                                Method:           MLE       \n",
       "Dependent Variable: 0       34.940\n",
       "1        0.891\n",
       "2        0.330\n",
       "3        0.037\n",
       "4        0.038\n",
       "         ...  \n",
       "1335     0.576\n",
       "1336     3.705\n",
       "1337     0.099\n",
       "1338     3.177\n",
       "1339     0.688\n",
       "Name: Cibil Score, Length: 1269, dtype: float64 Pseudo R-squared: 0.107     \n",
       "Date:               2024-01-27 17:48                                                                                                                                                                                                     AIC:              1575.2284 \n",
       "No. Observations:   1269                                                                                                                                                                                                                 BIC:              1585.5204 \n",
       "Df Model:           1                                                                                                                                                                                                                    Log-Likelihood:   -785.61   \n",
       "Df Residuals:       1267                                                                                                                                                                                                                 LL-Null:          -879.43   \n",
       "Converged:          1.0000                                                                                                                                                                                                               LLR p-value:      1.0455e-42\n",
       "No. Iterations:     7.0000                                                                                                                                                                                                               Scale:            1.0000    \n",
       "-------------------------------------------------------------------------------------------------------------------------------------------------------------------------------------------------------------------------------------------------------------------------------------------------------------\n",
       "                                                      Coef.                                          Std.Err.                                            z                                             P>|z|                                           [0.025                                          0.975]\n",
       "-------------------------------------------------------------------------------------------------------------------------------------------------------------------------------------------------------------------------------------------------------------------------------------------------------------\n",
       "const                                                 0.6661                                           0.0825                                           8.0719                                         0.0000                                          0.5044                                          0.8279\n",
       "Cibil Score                                          -0.3022                                           0.0293                                         -10.3151                                         0.0000                                         -0.3596                                         -0.2448\n",
       "=====================================================================================================================================================================================================================================================================\n",
       "\n",
       "\"\"\""
      ]
     },
     "execution_count": 35,
     "metadata": {},
     "output_type": "execute_result"
    }
   ],
   "source": [
    "#seeing the accuracy of the model using statistics package\n",
    "import statsmodels.api as sm\n",
    "x = df1['Cibil Score']\n",
    "y = df1['Loan offer'] \n",
    "\n",
    "#since non linear data we are adding constant \n",
    "x1 = sm.add_constant(x)\n",
    "logit = sm.Logit(y,x1)\n",
    "result = logit.fit()\n",
    "(result.summary2(x)) #z is above 0.5 so significant "
   ]
  },
  {
   "cell_type": "code",
   "execution_count": 36,
   "id": "93dd3040",
   "metadata": {},
   "outputs": [
    {
     "data": {
      "text/plain": [
       "1876.3999999999987"
      ]
     },
     "execution_count": 36,
     "metadata": {},
     "output_type": "execute_result"
    }
   ],
   "source": [
    "#g statistics to check the model\n",
    "g= 2 *(-785.61 - (-879.43)) *10\n",
    "g"
   ]
  },
  {
   "cell_type": "code",
   "execution_count": 37,
   "id": "2aec7579",
   "metadata": {},
   "outputs": [
    {
     "data": {
      "text/plain": [
       "0.0"
      ]
     },
     "execution_count": 37,
     "metadata": {},
     "output_type": "execute_result"
    }
   ],
   "source": [
    "#chi2 to check the accuracy\n",
    "import scipy\n",
    "from scipy.stats import chi2\n",
    "chi2.pdf(1876.3, 1) # lesser than 0.05 good model  \n",
    "#this is one of the method using statistics package but here we cannot predict the f1 score "
   ]
  },
  {
   "cell_type": "code",
   "execution_count": 38,
   "id": "cdb1507a",
   "metadata": {},
   "outputs": [
    {
     "data": {
      "text/plain": [
       "array([0, 1, 1, ..., 1, 0, 1], dtype=int64)"
      ]
     },
     "execution_count": 38,
     "metadata": {},
     "output_type": "execute_result"
    }
   ],
   "source": [
    "#Now using sklearn package --> here no need of constant and Logit  \n",
    "from sklearn.linear_model import LogisticRegression\n",
    "# Create a LogisticRegression model\n",
    "Lreg = LogisticRegression()\n",
    "\n",
    "#the best model is fitted in x \n",
    "x = df1[['Cibil Score', 'Cards']]\n",
    "#x= df1.iloc[:,:-1]\n",
    "y = df1['Loan offer']\n",
    "\n",
    "# Fit and predict the model\n",
    "Lreg.fit(x, y)\n",
    "y_predict = Lreg.predict(x)\n",
    "y_predict\n"
   ]
  },
  {
   "cell_type": "code",
   "execution_count": 39,
   "id": "dd3b1a66",
   "metadata": {},
   "outputs": [
    {
     "data": {
      "text/html": [
       "<div>\n",
       "<style scoped>\n",
       "    .dataframe tbody tr th:only-of-type {\n",
       "        vertical-align: middle;\n",
       "    }\n",
       "\n",
       "    .dataframe tbody tr th {\n",
       "        vertical-align: top;\n",
       "    }\n",
       "\n",
       "    .dataframe thead th {\n",
       "        text-align: right;\n",
       "    }\n",
       "</style>\n",
       "<table border=\"1\" class=\"dataframe\">\n",
       "  <thead>\n",
       "    <tr style=\"text-align: right;\">\n",
       "      <th></th>\n",
       "      <th>actual</th>\n",
       "      <th>predicted_prob</th>\n",
       "    </tr>\n",
       "  </thead>\n",
       "  <tbody>\n",
       "    <tr>\n",
       "      <th>0</th>\n",
       "      <td>0</td>\n",
       "      <td>0</td>\n",
       "    </tr>\n",
       "    <tr>\n",
       "      <th>1</th>\n",
       "      <td>1</td>\n",
       "      <td>1</td>\n",
       "    </tr>\n",
       "    <tr>\n",
       "      <th>2</th>\n",
       "      <td>1</td>\n",
       "      <td>1</td>\n",
       "    </tr>\n",
       "    <tr>\n",
       "      <th>3</th>\n",
       "      <td>0</td>\n",
       "      <td>1</td>\n",
       "    </tr>\n",
       "    <tr>\n",
       "      <th>4</th>\n",
       "      <td>1</td>\n",
       "      <td>1</td>\n",
       "    </tr>\n",
       "    <tr>\n",
       "      <th>...</th>\n",
       "      <td>...</td>\n",
       "      <td>...</td>\n",
       "    </tr>\n",
       "    <tr>\n",
       "      <th>1335</th>\n",
       "      <td>1</td>\n",
       "      <td>1</td>\n",
       "    </tr>\n",
       "    <tr>\n",
       "      <th>1336</th>\n",
       "      <td>0</td>\n",
       "      <td>0</td>\n",
       "    </tr>\n",
       "    <tr>\n",
       "      <th>1337</th>\n",
       "      <td>1</td>\n",
       "      <td>1</td>\n",
       "    </tr>\n",
       "    <tr>\n",
       "      <th>1338</th>\n",
       "      <td>0</td>\n",
       "      <td>0</td>\n",
       "    </tr>\n",
       "    <tr>\n",
       "      <th>1339</th>\n",
       "      <td>1</td>\n",
       "      <td>1</td>\n",
       "    </tr>\n",
       "  </tbody>\n",
       "</table>\n",
       "<p>1269 rows × 2 columns</p>\n",
       "</div>"
      ],
      "text/plain": [
       "      actual  predicted_prob\n",
       "0          0               0\n",
       "1          1               1\n",
       "2          1               1\n",
       "3          0               1\n",
       "4          1               1\n",
       "...      ...             ...\n",
       "1335       1               1\n",
       "1336       0               0\n",
       "1337       1               1\n",
       "1338       0               0\n",
       "1339       1               1\n",
       "\n",
       "[1269 rows x 2 columns]"
      ]
     },
     "execution_count": 39,
     "metadata": {},
     "output_type": "execute_result"
    }
   ],
   "source": [
    "y_pred_df= pd.DataFrame({'actual': y, 'predicted_prob': Lreg.predict(x)})\n",
    "y_pred_df"
   ]
  },
  {
   "cell_type": "code",
   "execution_count": 40,
   "id": "2970dd35",
   "metadata": {},
   "outputs": [
    {
     "name": "stdout",
     "output_type": "stream",
     "text": [
      "[[395 250]\n",
      " [130 494]]\n"
     ]
    }
   ],
   "source": [
    "# Confusion Matrix for the model accuracy\n",
    "from sklearn.metrics import confusion_matrix\n",
    "cm = confusion_matrix(y,y_predict)\n",
    "print (cm)"
   ]
  },
  {
   "cell_type": "code",
   "execution_count": 41,
   "id": "e8709b9d",
   "metadata": {},
   "outputs": [
    {
     "name": "stdout",
     "output_type": "stream",
     "text": [
      "Confusion matrix\n",
      "\n",
      " [[395 250]\n",
      " [130 494]]\n",
      "\n",
      "True Positives(TP) =  395\n",
      "\n",
      "True Negatives(TN) =  494\n",
      "\n",
      "False Positives(FP) =  250\n",
      "\n",
      "False Negatives(FN) =  130\n"
     ]
    },
    {
     "data": {
      "text/plain": [
       "<Axes: >"
      ]
     },
     "execution_count": 41,
     "metadata": {},
     "output_type": "execute_result"
    },
    {
     "data": {
      "image/png": "[encoded data removed]",
      "text/plain": [
       "<Figure size 640x480 with 2 Axes>"
      ]
     },
     "metadata": {},
     "output_type": "display_data"
    }
   ],
   "source": [
    "# visualize confusion matrix with seaborn heatmap\n",
    "print('Confusion matrix\\n\\n', cm)\n",
    "print('\\nTrue Positives(TP) = ', cm[0,0])\n",
    "print('\\nTrue Negatives(TN) = ', cm[1,1])\n",
    "print('\\nFalse Positives(FP) = ', cm[0,1])\n",
    "print('\\nFalse Negatives(FN) = ', cm[1,0])\n",
    "\n",
    "cm_matrix = pd.DataFrame(data=cm, columns=['Actual Positive:1', 'Actual Negative:0'], index=['Predict Positive:1', 'Predict Negative:0'])\n",
    "sns.heatmap(cm_matrix, annot=True, fmt='d', cmap='YlGnBu')"
   ]
  },
  {
   "cell_type": "code",
   "execution_count": 42,
   "id": "d2c8a953",
   "metadata": {},
   "outputs": [
    {
     "name": "stdout",
     "output_type": "stream",
     "text": [
      "              precision    recall  f1-score   support\n",
      "\n",
      "           0       0.75      0.61      0.68       645\n",
      "           1       0.66      0.79      0.72       624\n",
      "\n",
      "    accuracy                           0.70      1269\n",
      "   macro avg       0.71      0.70      0.70      1269\n",
      "weighted avg       0.71      0.70      0.70      1269\n",
      "\n"
     ]
    }
   ],
   "source": [
    "#Classification metrix\n",
    "from sklearn.metrics import classification_report\n",
    "print(classification_report(y,y_predict))"
   ]
  },
  {
   "cell_type": "code",
   "execution_count": 43,
   "id": "fd116737",
   "metadata": {},
   "outputs": [
    {
     "name": "stdout",
     "output_type": "stream",
     "text": [
      "Classification accuracy : 0.7006\n"
     ]
    }
   ],
   "source": [
    "#classification accuracy\n",
    "TP = cm[0,0]\n",
    "TN = cm[1,1]\n",
    "FP = cm[0,1]\n",
    "FN = cm[1,0]\n",
    "classification_accuracy = (TP + TN) / float(TP + TN + FP + FN)\n",
    "print('Classification accuracy : {0:0.4f}'.format(classification_accuracy))"
   ]
  },
  {
   "cell_type": "code",
   "execution_count": 44,
   "id": "1e3a99cb",
   "metadata": {},
   "outputs": [
    {
     "name": "stdout",
     "output_type": "stream",
     "text": [
      "Classification error : 0.2994\n"
     ]
    }
   ],
   "source": [
    "#classification error\n",
    "classification_error = (FP + FN) / float(TP + TN + FP + FN)\n",
    "print('Classification error : {0:0.4f}'.format(classification_error))"
   ]
  },
  {
   "cell_type": "code",
   "execution_count": 45,
   "id": "bc8f3f58",
   "metadata": {},
   "outputs": [
    {
     "name": "stdout",
     "output_type": "stream",
     "text": [
      "Precision : 0.6124\n"
     ]
    }
   ],
   "source": [
    "#precision score --> ratio of true positives (TP) to the sum of true and false positives (TP + FP).\n",
    "precision = TP / float(TP + FP)\n",
    "print('Precision : {0:0.4f}'.format(precision))"
   ]
  },
  {
   "cell_type": "code",
   "execution_count": 46,
   "id": "30c7b194",
   "metadata": {},
   "outputs": [
    {
     "name": "stdout",
     "output_type": "stream",
     "text": [
      "Recall or Sensitivity : 0.7524\n"
     ]
    }
   ],
   "source": [
    "#recall or sensitivity --> identifies the proportion of correctly predicted actual positives.\n",
    "recall = TP / float(TP + FN)\n",
    "print('Recall or Sensitivity : {0:0.4f}'.format(recall))"
   ]
  },
  {
   "cell_type": "code",
   "execution_count": 47,
   "id": "8dfef1e3",
   "metadata": {},
   "outputs": [
    {
     "name": "stdout",
     "output_type": "stream",
     "text": [
      "Specificity : 0.6640\n"
     ]
    }
   ],
   "source": [
    "#specificity\n",
    "specificity = TN / (TN + FP)\n",
    "print('Specificity : {0:0.4f}'.format(specificity))"
   ]
  },
  {
   "cell_type": "code",
   "execution_count": 48,
   "id": "bce22da2",
   "metadata": {},
   "outputs": [
    {
     "data": {
      "text/plain": [
       "0.7222222222222221"
      ]
     },
     "execution_count": 48,
     "metadata": {},
     "output_type": "execute_result"
    }
   ],
   "source": [
    "#f1-score is the weighted harmonic mean of precision and recall. The best possible f1-score would be 1.0 and worst is 0 \n",
    "# Calculate the F1 score\n",
    "from sklearn.metrics import f1_score \n",
    "f1 = f1_score(y, y_predict)\n",
    "f1 #moderate good level model "
   ]
  },
  {
   "cell_type": "code",
   "execution_count": 49,
   "id": "ec12e82c",
   "metadata": {},
   "outputs": [
    {
     "name": "stdout",
     "output_type": "stream",
     "text": [
      "ROC AUC : 0.7020\n"
     ]
    }
   ],
   "source": [
    "# compute ROC AUC\n",
    "from sklearn.metrics import roc_auc_score\n",
    "ROC_AUC = roc_auc_score(y, y_predict)\n",
    "print('ROC AUC : {:.4f}'.format(ROC_AUC)) #less than 70% not good model"
   ]
  },
  {
   "cell_type": "code",
   "execution_count": 50,
   "id": "46ab96f5",
   "metadata": {},
   "outputs": [
    {
     "data": {
      "image/png": "[encoded data removed]",
      "text/plain": [
       "<Figure size 500x500 with 1 Axes>"
      ]
     },
     "metadata": {},
     "output_type": "display_data"
    }
   ],
   "source": [
    "#ROC curve help us to choose a threshold level that balances sensitivity and specificity for a particular context.\n",
    "from sklearn.metrics import roc_curve\n",
    "fpr, tpr, thresholds = roc_curve(y, y_predict)\n",
    "plt.figure(figsize=(5,5))\n",
    "plt.plot(fpr, tpr, color='green', linewidth=2)\n",
    "plt.plot([0, 1], [0, 1], 'k--')\n",
    "plt.rcParams['font.size'] = 12\n",
    "\n",
    "plt.title('ROC curve for Loan approval')\n",
    "plt.xlabel('False Positive Rate (1 - Specificity)')\n",
    "plt.ylabel('True Positive Rate (Sensitivity)')\n",
    "\n",
    "plt.show()"
   ]
  },
  {
   "cell_type": "markdown",
   "id": "90678bd9",
   "metadata": {},
   "source": [
    "Comments on the result:\n",
    "    Model accuracy is 70% it is not bad, it will predict the loan application moderatelty \n",
    "    The major things considered for loan approvals for this model is cibil score and the cards holded by the customer\n",
    "    There is 30% of error seen in model shows that loan has been given to the customer who are not eligible \n",
    "    F1 score also noted as 72% which is good to predict the loan category but still the specificity is higher which hinder the best performance of the model in my prespective\n",
    "    ROC AUC of our model approaches towards 1. So, we can conclude that our model does a good job in predicting whether we can give the loan or not to the customer \n",
    "    ROC threshold is also high \n",
    "    Overall the model does a good job to predict the outcome and the specificity is an important metric, especially when considering the balance between false positives and false negatives. Reducing the specificity could be better to obtain high accuracy in the model. "
   ]
  }
 ],
 "metadata": {
  "kernelspec": {
   "display_name": "Python 3 (ipykernel)",
   "language": "python",
   "name": "python3"
  },
  "language_info": {
   "codemirror_mode": {
    "name": "ipython",
    "version": 3
   },
   "file_extension": ".py",
   "mimetype": "text/x-python",
   "name": "python",
   "nbconvert_exporter": "python",
   "pygments_lexer": "ipython3",
   "version": "3.11.5"
  }
 },
 "nbformat": 4,
 "nbformat_minor": 5
}
